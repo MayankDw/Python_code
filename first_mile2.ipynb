{
 "cells": [
  {
   "cell_type": "code",
   "execution_count": 9,
   "metadata": {},
   "outputs": [],
   "source": [
    "l = []"
   ]
  },
  {
   "cell_type": "code",
   "execution_count": 10,
   "metadata": {},
   "outputs": [
    {
     "data": {
      "text/plain": [
       "[]"
      ]
     },
     "execution_count": 10,
     "metadata": {},
     "output_type": "execute_result"
    }
   ],
   "source": [
    "l"
   ]
  },
  {
   "cell_type": "code",
   "execution_count": 11,
   "metadata": {},
   "outputs": [],
   "source": [
    "def empty_list():  \n",
    "    for x in range(10):\n",
    "        l.append('')\n",
    "        "
   ]
  },
  {
   "cell_type": "code",
   "execution_count": 12,
   "metadata": {},
   "outputs": [],
   "source": [
    "def check_list():\n",
    "    if '' in l:\n",
    "        return True\n",
    "    else:\n",
    "        return False"
   ]
  },
  {
   "cell_type": "code",
   "execution_count": 13,
   "metadata": {},
   "outputs": [],
   "source": [
    "def print_value():\n",
    "    print (' {} | {} | {} '.format(l[0], l[1], l[2]))\n",
    "    print (f'----------')\n",
    "    print (' {} | {} | {} '.format(l[3], l[4], l[5]))\n",
    "    print (f'----------')\n",
    "    print (' {} | {} | {} '.format(l[6], l[7], l[8]))"
   ]
  },
  {
   "cell_type": "code",
   "execution_count": 14,
   "metadata": {},
   "outputs": [],
   "source": [
    "def insert_value(pos, value):\n",
    "    l[pos] = value"
   ]
  },
  {
   "cell_type": "code",
   "execution_count": 15,
   "metadata": {},
   "outputs": [],
   "source": [
    "def game_tic_toc():\n",
    "    print(\"Welcome to Tic Toc game\")\n",
    "    print(\"Let's start the game!!!\")\n",
    "    curr_val = input('Please select your choice (O/X): ')\n",
    "    if curr_val == 'O':\n",
    "        next_val = 'X'\n",
    "    else:\n",
    "        next_val = 'O'\n",
    "    i = 0\n",
    "    empty_list()\n",
    "    while(check_list()):\n",
    "        print_value()\n",
    "        position = input('Enter your position(0-9): ')\n",
    "        l_index = (int(position)-1)\n",
    "        print(l_index)\n",
    "        \n",
    "        if i%2 ==0:\n",
    "            insert_value(l_index, curr_val)\n",
    "        else: \n",
    "            insert_value(l_index, next_val)\n",
    "        i = i+1\n",
    "        print(i)\n",
    "        \n",
    "    else:\n",
    "        print('Congratulations you won the game!')\n",
    "        print_value()\n",
    "        "
   ]
  },
  {
   "cell_type": "code",
   "execution_count": 16,
   "metadata": {},
   "outputs": [
    {
     "name": "stdout",
     "output_type": "stream",
     "text": [
      "Welcome to Tic Toc game\n",
      "Let's start the game!!!\n",
      "Please select your choice (O/X): O\n",
      "  |  |  \n",
      "----------\n",
      "  |  |  \n",
      "----------\n",
      "  |  |  \n",
      "Enter your position(0-9): 4\n",
      "3\n",
      "1\n",
      "  |  |  \n",
      "----------\n",
      " O |  |  \n",
      "----------\n",
      "  |  |  \n",
      "Enter your position(0-9): 5\n",
      "4\n",
      "2\n",
      "  |  |  \n",
      "----------\n",
      " O | X |  \n",
      "----------\n",
      "  |  |  \n",
      "Enter your position(0-9): 1\n",
      "0\n",
      "3\n",
      " O |  |  \n",
      "----------\n",
      " O | X |  \n",
      "----------\n",
      "  |  |  \n",
      "Enter your position(0-9): 5\n",
      "4\n",
      "4\n",
      " O |  |  \n",
      "----------\n",
      " O | X |  \n",
      "----------\n",
      "  |  |  \n",
      "Enter your position(0-9): 6\n",
      "5\n",
      "5\n",
      " O |  |  \n",
      "----------\n",
      " O | X | O \n",
      "----------\n",
      "  |  |  \n",
      "Enter your position(0-9): 7\n",
      "6\n",
      "6\n",
      " O |  |  \n",
      "----------\n",
      " O | X | O \n",
      "----------\n",
      " X |  |  \n",
      "Enter your position(0-9): 8\n",
      "7\n",
      "7\n",
      " O |  |  \n",
      "----------\n",
      " O | X | O \n",
      "----------\n",
      " X | O |  \n",
      "Enter your position(0-9): 9\n",
      "8\n",
      "8\n",
      " O |  |  \n",
      "----------\n",
      " O | X | O \n",
      "----------\n",
      " X | O | X \n",
      "Enter your position(0-9): 2\n",
      "1\n",
      "9\n",
      " O | O |  \n",
      "----------\n",
      " O | X | O \n",
      "----------\n",
      " X | O | X \n",
      "Enter your position(0-9): 3\n",
      "2\n",
      "10\n",
      " O | O | X \n",
      "----------\n",
      " O | X | O \n",
      "----------\n",
      " X | O | X \n",
      "Enter your position(0-9): 4\n",
      "3\n",
      "11\n",
      " O | O | X \n",
      "----------\n",
      " O | X | O \n",
      "----------\n",
      " X | O | X \n",
      "Enter your position(0-9): \n"
     ]
    },
    {
     "ename": "ValueError",
     "evalue": "invalid literal for int() with base 10: ''",
     "output_type": "error",
     "traceback": [
      "\u001b[0;31m---------------------------------------------------------------------------\u001b[0m",
      "\u001b[0;31mValueError\u001b[0m                                Traceback (most recent call last)",
      "\u001b[0;32m<ipython-input-16-c214357c8695>\u001b[0m in \u001b[0;36m<module>\u001b[0;34m\u001b[0m\n\u001b[0;32m----> 1\u001b[0;31m \u001b[0mgame_tic_toc\u001b[0m\u001b[0;34m(\u001b[0m\u001b[0;34m)\u001b[0m\u001b[0;34m\u001b[0m\u001b[0;34m\u001b[0m\u001b[0m\n\u001b[0m",
      "\u001b[0;32m<ipython-input-15-97db7fb59e9c>\u001b[0m in \u001b[0;36mgame_tic_toc\u001b[0;34m()\u001b[0m\n\u001b[1;32m     12\u001b[0m         \u001b[0mprint_value\u001b[0m\u001b[0;34m(\u001b[0m\u001b[0;34m)\u001b[0m\u001b[0;34m\u001b[0m\u001b[0;34m\u001b[0m\u001b[0m\n\u001b[1;32m     13\u001b[0m         \u001b[0mposition\u001b[0m \u001b[0;34m=\u001b[0m \u001b[0minput\u001b[0m\u001b[0;34m(\u001b[0m\u001b[0;34m'Enter your position(0-9): '\u001b[0m\u001b[0;34m)\u001b[0m\u001b[0;34m\u001b[0m\u001b[0;34m\u001b[0m\u001b[0m\n\u001b[0;32m---> 14\u001b[0;31m         \u001b[0ml_index\u001b[0m \u001b[0;34m=\u001b[0m \u001b[0;34m(\u001b[0m\u001b[0mint\u001b[0m\u001b[0;34m(\u001b[0m\u001b[0mposition\u001b[0m\u001b[0;34m)\u001b[0m\u001b[0;34m-\u001b[0m\u001b[0;36m1\u001b[0m\u001b[0;34m)\u001b[0m\u001b[0;34m\u001b[0m\u001b[0;34m\u001b[0m\u001b[0m\n\u001b[0m\u001b[1;32m     15\u001b[0m         \u001b[0mprint\u001b[0m\u001b[0;34m(\u001b[0m\u001b[0ml_index\u001b[0m\u001b[0;34m)\u001b[0m\u001b[0;34m\u001b[0m\u001b[0;34m\u001b[0m\u001b[0m\n\u001b[1;32m     16\u001b[0m \u001b[0;34m\u001b[0m\u001b[0m\n",
      "\u001b[0;31mValueError\u001b[0m: invalid literal for int() with base 10: ''"
     ]
    }
   ],
   "source": [
    "game_tic_toc()"
   ]
  },
  {
   "cell_type": "code",
   "execution_count": null,
   "metadata": {},
   "outputs": [],
   "source": []
  },
  {
   "cell_type": "code",
   "execution_count": null,
   "metadata": {},
   "outputs": [],
   "source": []
  }
 ],
 "metadata": {
  "kernelspec": {
   "display_name": "Python 3",
   "language": "python",
   "name": "python3"
  },
  "language_info": {
   "codemirror_mode": {
    "name": "ipython",
    "version": 3
   },
   "file_extension": ".py",
   "mimetype": "text/x-python",
   "name": "python",
   "nbconvert_exporter": "python",
   "pygments_lexer": "ipython3",
   "version": "3.7.4"
  }
 },
 "nbformat": 4,
 "nbformat_minor": 2
}
