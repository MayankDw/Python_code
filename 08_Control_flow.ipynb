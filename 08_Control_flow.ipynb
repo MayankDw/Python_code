{
 "cells": [
  {
   "cell_type": "markdown",
   "metadata": {},
   "source": [
    "# Control Flow "
   ]
  },
  {
   "cell_type": "code",
   "execution_count": 2,
   "metadata": {},
   "outputs": [
    {
     "name": "stdout",
     "output_type": "stream",
     "text": [
      "ITS TRUE\n"
     ]
    }
   ],
   "source": [
    "if True:\n",
    "    print('ITS TRUE')"
   ]
  },
  {
   "cell_type": "code",
   "execution_count": 3,
   "metadata": {},
   "outputs": [
    {
     "name": "stdout",
     "output_type": "stream",
     "text": [
      "I'M NOT HUNGRY\n"
     ]
    }
   ],
   "source": [
    "hungry = False\n",
    "\n",
    "if hungry:\n",
    "    print('FEED ME')\n",
    "    \n",
    "else:\n",
    "    print(\"I'M NOT HUNGRY\")"
   ]
  },
  {
   "cell_type": "code",
   "execution_count": 4,
   "metadata": {},
   "outputs": [
    {
     "name": "stdout",
     "output_type": "stream",
     "text": [
      "Welcome to Store\n"
     ]
    }
   ],
   "source": [
    "loc = 'Store'\n",
    "\n",
    "if loc == 'Auto shop':\n",
    "    print('Welcome to cars')\n",
    "elif loc == 'Back':\n",
    "    print('Welcome Money')\n",
    "elif loc == 'Store':\n",
    "    print('Welcome to Store')\n",
    "else:\n",
    "    print ('Welcome Everywhere')"
   ]
  },
  {
   "cell_type": "code",
   "execution_count": 5,
   "metadata": {},
   "outputs": [
    {
     "name": "stdout",
     "output_type": "stream",
     "text": [
      "What is your name\n"
     ]
    }
   ],
   "source": [
    "name = 'mayank'\n",
    "\n",
    "if name =='sammy':\n",
    "    print ('Hello Sammy')\n",
    "elif name == 'rammy':\n",
    "    print ('Hello Rammy')\n",
    "else:\n",
    "    print('What is your name')"
   ]
  },
  {
   "cell_type": "code",
   "execution_count": 8,
   "metadata": {},
   "outputs": [
    {
     "name": "stdout",
     "output_type": "stream",
     "text": [
      "I'm in quincy\n"
     ]
    }
   ],
   "source": [
    "var1 = 'quincy'\n",
    "var2 = 'boston'\n",
    "\n",
    "if var1 == 'quincy':\n",
    "    print(\"I'm in quincy\")\n",
    "elif var2 == 'boston':\n",
    "    print(\"I'm in boston\")\n",
    "elif var2 == 'weymouth':\n",
    "    print(\"Where I'm\")\n",
    "else:\n",
    "    print(\"I'm in US\")\n",
    "          \n",
    "          "
   ]
  },
  {
   "cell_type": "code",
   "execution_count": 9,
   "metadata": {},
   "outputs": [
    {
     "name": "stdout",
     "output_type": "stream",
     "text": [
      "I'm in boston\n"
     ]
    }
   ],
   "source": [
    "var1 = 'quincy'\n",
    "var2 = 'boston'\n",
    "\n",
    "if var1 == 'quincy1':\n",
    "    print(\"I'm in quincy\")\n",
    "elif var2 == 'boston':\n",
    "    print(\"I'm in boston\")\n",
    "elif var2 == 'weymouth':\n",
    "    print(\"Where I'm\")\n",
    "else:\n",
    "    print(\"I'm in US\")\n",
    "          "
   ]
  },
  {
   "cell_type": "code",
   "execution_count": 10,
   "metadata": {},
   "outputs": [
    {
     "name": "stdout",
     "output_type": "stream",
     "text": [
      "I'm in US\n"
     ]
    }
   ],
   "source": [
    "var1 = 'quincy'\n",
    "var2 = 'boston'\n",
    "\n",
    "if var1 == 'quincy1':\n",
    "    print(\"I'm in quincy\")\n",
    "elif var2 == 'boston1':\n",
    "    print(\"I'm in boston\")\n",
    "elif var2 == 'weymouth':\n",
    "    print(\"Where I'm\")\n",
    "else:\n",
    "    print(\"I'm in US\")"
   ]
  },
  {
   "cell_type": "code",
   "execution_count": null,
   "metadata": {},
   "outputs": [],
   "source": []
  }
 ],
 "metadata": {
  "kernelspec": {
   "display_name": "Python 3",
   "language": "python",
   "name": "python3"
  },
  "language_info": {
   "codemirror_mode": {
    "name": "ipython",
    "version": 3
   },
   "file_extension": ".py",
   "mimetype": "text/x-python",
   "name": "python",
   "nbconvert_exporter": "python",
   "pygments_lexer": "ipython3",
   "version": "3.7.6"
  }
 },
 "nbformat": 4,
 "nbformat_minor": 2
}
