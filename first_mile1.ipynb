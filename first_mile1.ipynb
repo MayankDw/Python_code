{
 "cells": [
  {
   "cell_type": "code",
   "execution_count": 1,
   "metadata": {},
   "outputs": [],
   "source": [
    "d = {}"
   ]
  },
  {
   "cell_type": "code",
   "execution_count": 27,
   "metadata": {},
   "outputs": [],
   "source": [
    "l = []"
   ]
  },
  {
   "cell_type": "code",
   "execution_count": 28,
   "metadata": {},
   "outputs": [
    {
     "data": {
      "text/plain": [
       "[]"
      ]
     },
     "execution_count": 28,
     "metadata": {},
     "output_type": "execute_result"
    }
   ],
   "source": [
    "l"
   ]
  },
  {
   "cell_type": "code",
   "execution_count": 19,
   "metadata": {},
   "outputs": [],
   "source": [
    "def empty_list():  \n",
    "    for x in range(10):\n",
    "        l.append('')"
   ]
  },
  {
   "cell_type": "code",
   "execution_count": 20,
   "metadata": {},
   "outputs": [],
   "source": [
    "def check_list():\n",
    "    if '' in mylist:\n",
    "        return True\n",
    "    else:\n",
    "        return False"
   ]
  },
  {
   "cell_type": "code",
   "execution_count": 52,
   "metadata": {},
   "outputs": [
    {
     "name": "stdout",
     "output_type": "stream",
     "text": [
      "Enter your position (1-9) :7\n"
     ]
    }
   ],
   "source": [
    "result = input('Enter your position (1-9) :')"
   ]
  },
  {
   "cell_type": "raw",
   "metadata": {},
   "source": [
    "result"
   ]
  },
  {
   "cell_type": "code",
   "execution_count": 21,
   "metadata": {},
   "outputs": [],
   "source": [
    "def print_value():\n",
    "    print (' {} | {} | {} '.format(l[0], l[1], l[2]))\n",
    "    print (f'----------')\n",
    "    print (' {} | {} | {} '.format(l[3], l[4], l[5]))\n",
    "    print (f'----------')\n",
    "    print (' {} | {} | {} '.format(l[6], l[7], l[8]))"
   ]
  },
  {
   "cell_type": "code",
   "execution_count": 53,
   "metadata": {},
   "outputs": [
    {
     "data": {
      "text/plain": [
       "'7'"
      ]
     },
     "execution_count": 53,
     "metadata": {},
     "output_type": "execute_result"
    }
   ],
   "source": [
    "result"
   ]
  },
  {
   "cell_type": "code",
   "execution_count": 37,
   "metadata": {},
   "outputs": [],
   "source": [
    "def insert_value(pos, value):\n",
    "    l[pos] = value"
   ]
  },
  {
   "cell_type": "code",
   "execution_count": 55,
   "metadata": {},
   "outputs": [],
   "source": [
    "insert_value(8, 'X')"
   ]
  },
  {
   "cell_type": "code",
   "execution_count": 50,
   "metadata": {},
   "outputs": [],
   "source": [
    "def game_tic_toc():\n",
    "    print(\"Welcome to Tic Toc game\")\n",
    "    print(\"Let's start the game!!!\")\n",
    "    curr_val = input('Please select your choice (O/X): ')\n",
    "    if curr_val == 'O':\n",
    "        next_val = 'X'\n",
    "    else:\n",
    "        next_val = 'O'\n",
    "    i = 0\n",
    "    empty_list()\n",
    "    for num in range(10):\n",
    "    #while(check_list()):\n",
    "        print_value()\n",
    "        position = input('Enter your position(0-9): ')\n",
    "        l_index = (int(position)-1)\n",
    "        print(l_index)\n",
    "        \n",
    "        if i%2 ==0:\n",
    "            insert_value(l_index, curr_val)\n",
    "        else: \n",
    "            insert_value(l_index, next_val)\n",
    "        i =+ 1\n",
    "        \n",
    "\n",
    "        \n",
    "    else:\n",
    "        'Congratulations you won the game!'\n",
    "        \n",
    "        "
   ]
  },
  {
   "cell_type": "code",
   "execution_count": 49,
   "metadata": {},
   "outputs": [
    {
     "name": "stdout",
     "output_type": "stream",
     "text": [
      "Welcome to Tic Toc game\n",
      "Let's start the game!!!\n",
      "Please select your choice (O/X): X\n",
      "  |  |  \n",
      "----------\n",
      "  |  |  \n",
      "----------\n",
      "  |  |  \n",
      "Enter your position(0-9): 1\n",
      "0\n",
      " X |  |  \n",
      "----------\n",
      "  |  |  \n",
      "----------\n",
      "  |  |  \n",
      "Enter your position(0-9): 5\n",
      "4\n",
      " X |  |  \n",
      "----------\n",
      "  | O |  \n",
      "----------\n",
      "  |  |  \n",
      "Enter your position(0-9): 6\n",
      "5\n",
      " X |  |  \n",
      "----------\n",
      "  | O | O \n",
      "----------\n",
      "  |  |  \n",
      "Enter your position(0-9): 8\n",
      "7\n",
      " X |  |  \n",
      "----------\n",
      "  | O | O \n",
      "----------\n",
      "  | O |  \n",
      "Enter your position(0-9): 2\n",
      "1\n",
      " X | O |  \n",
      "----------\n",
      "  | O | O \n",
      "----------\n",
      "  | O |  \n",
      "Enter your position(0-9): 3\n",
      "2\n",
      " X | O | O \n",
      "----------\n",
      "  | O | O \n",
      "----------\n",
      "  | O |  \n",
      "Enter your position(0-9): 5\n",
      "4\n",
      " X | O | O \n",
      "----------\n",
      "  | O | O \n",
      "----------\n",
      "  | O |  \n",
      "Enter your position(0-9): 7\n",
      "6\n",
      " X | O | O \n",
      "----------\n",
      "  | O | O \n",
      "----------\n",
      " O | O |  \n",
      "Enter your position(0-9): 9\n",
      "8\n",
      " X | O | O \n",
      "----------\n",
      "  | O | O \n",
      "----------\n",
      " O | O | O \n",
      "Enter your position(0-9): 4\n",
      "3\n"
     ]
    }
   ],
   "source": [
    "game_tic_toc()"
   ]
  },
  {
   "cell_type": "code",
   "execution_count": null,
   "metadata": {},
   "outputs": [],
   "source": []
  }
 ],
 "metadata": {
  "kernelspec": {
   "display_name": "Python 3",
   "language": "python",
   "name": "python3"
  },
  "language_info": {
   "codemirror_mode": {
    "name": "ipython",
    "version": 3
   },
   "file_extension": ".py",
   "mimetype": "text/x-python",
   "name": "python",
   "nbconvert_exporter": "python",
   "pygments_lexer": "ipython3",
   "version": "3.7.4"
  }
 },
 "nbformat": 4,
 "nbformat_minor": 2
}
